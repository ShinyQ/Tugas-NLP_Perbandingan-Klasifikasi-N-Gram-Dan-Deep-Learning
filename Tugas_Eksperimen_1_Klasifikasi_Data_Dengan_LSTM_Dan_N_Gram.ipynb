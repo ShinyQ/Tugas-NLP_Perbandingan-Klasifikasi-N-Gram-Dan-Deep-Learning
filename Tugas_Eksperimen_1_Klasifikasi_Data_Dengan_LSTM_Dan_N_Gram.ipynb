{
  "cells": [
    {
      "cell_type": "code",
      "source": [
        "!pip install tensorflow"
      ],
      "metadata": {
        "id": "CYwN7TuXGI6W"
      },
      "execution_count": null,
      "outputs": []
    },
    {
      "cell_type": "markdown",
      "metadata": {
        "id": "vLB5KVFcF2qz"
      },
      "source": [
        "### **Import Dataset**"
      ]
    },
    {
      "cell_type": "code",
      "execution_count": null,
      "metadata": {
        "id": "hSMBUg8yF2q1"
      },
      "outputs": [],
      "source": [
        "import numpy as np\n",
        "import pandas as pd\n",
        "import seaborn as sns\n",
        "import matplotlib.pyplot as plt\n",
        "\n",
        "df_train = pd.read_csv('https://raw.githubusercontent.com/ShinyQ/Tugas-Pemrograman-1_NLP/main/twitter_training.csv')\n",
        "df_test = pd.read_csv('https://raw.githubusercontent.com/ShinyQ/Tugas-Pemrograman-1_NLP/main/twitter_validation.csv')\n",
        "\n",
        "# Change Column Name\n",
        "df_train.columns = ['id', 'name', 'sentiment', 'text']\n",
        "df_test.columns = ['id', 'name', 'sentiment', 'text']\n",
        "\n",
        "df_train = df_train[['text', 'sentiment']]\n",
        "df_test = df_test[['text', 'sentiment']]\n",
        "\n",
        "# Drop NaN Data\n",
        "df_train.dropna(inplace=True)\n",
        "df_test.dropna(inplace=True)"
      ]
    },
    {
      "cell_type": "code",
      "execution_count": null,
      "metadata": {
        "id": "qDBJ1mVjF2q1"
      },
      "outputs": [],
      "source": [
        "df_train[\"sentiment\"] = df_train[\"sentiment\"].map({\n",
        "    \"Negative\": 0, \n",
        "    \"Neutral\": 1, \n",
        "    \"Positive\": 2,\n",
        "    \"Irrelevant\": 3\n",
        "})\n",
        "\n",
        "df_test[\"sentiment\"] = df_test[\"sentiment\"].map({\n",
        "    \"Negative\": 0,\n",
        "    \"Neutral\": 1,\n",
        "    \"Positive\": 2,\n",
        "    \"Irrelevant\": 3\n",
        "})"
      ]
    },
    {
      "cell_type": "code",
      "execution_count": null,
      "metadata": {
        "colab": {
          "base_uri": "https://localhost:8080/",
          "height": 206
        },
        "id": "ZiByYBeuF2q2",
        "outputId": "d9d10f33-204b-4297-adf6-0127e48d5102"
      },
      "outputs": [
        {
          "output_type": "execute_result",
          "data": {
            "text/plain": [
              "                                                    text  sentiment\n",
              "16754                                   KeemStar? Close.          3\n",
              "61859        Grand Theft Auto was educational after all.          2\n",
              "29531  @Respawn @PlayApex  @lowkeydbjosh  How many mo...          0\n",
              "7907                                             Bruh .           0\n",
              "29869  Get on stream @ PlayApex with 30 minutes left ...          1"
            ],
            "text/html": [
              "\n",
              "  <div id=\"df-e6cf3ec1-9080-4b1b-b30f-9e8fe7bdb488\">\n",
              "    <div class=\"colab-df-container\">\n",
              "      <div>\n",
              "<style scoped>\n",
              "    .dataframe tbody tr th:only-of-type {\n",
              "        vertical-align: middle;\n",
              "    }\n",
              "\n",
              "    .dataframe tbody tr th {\n",
              "        vertical-align: top;\n",
              "    }\n",
              "\n",
              "    .dataframe thead th {\n",
              "        text-align: right;\n",
              "    }\n",
              "</style>\n",
              "<table border=\"1\" class=\"dataframe\">\n",
              "  <thead>\n",
              "    <tr style=\"text-align: right;\">\n",
              "      <th></th>\n",
              "      <th>text</th>\n",
              "      <th>sentiment</th>\n",
              "    </tr>\n",
              "  </thead>\n",
              "  <tbody>\n",
              "    <tr>\n",
              "      <th>16754</th>\n",
              "      <td>KeemStar? Close.</td>\n",
              "      <td>3</td>\n",
              "    </tr>\n",
              "    <tr>\n",
              "      <th>61859</th>\n",
              "      <td>Grand Theft Auto was educational after all.</td>\n",
              "      <td>2</td>\n",
              "    </tr>\n",
              "    <tr>\n",
              "      <th>29531</th>\n",
              "      <td>@Respawn @PlayApex  @lowkeydbjosh  How many mo...</td>\n",
              "      <td>0</td>\n",
              "    </tr>\n",
              "    <tr>\n",
              "      <th>7907</th>\n",
              "      <td>Bruh .</td>\n",
              "      <td>0</td>\n",
              "    </tr>\n",
              "    <tr>\n",
              "      <th>29869</th>\n",
              "      <td>Get on stream @ PlayApex with 30 minutes left ...</td>\n",
              "      <td>1</td>\n",
              "    </tr>\n",
              "  </tbody>\n",
              "</table>\n",
              "</div>\n",
              "      <button class=\"colab-df-convert\" onclick=\"convertToInteractive('df-e6cf3ec1-9080-4b1b-b30f-9e8fe7bdb488')\"\n",
              "              title=\"Convert this dataframe to an interactive table.\"\n",
              "              style=\"display:none;\">\n",
              "        \n",
              "  <svg xmlns=\"http://www.w3.org/2000/svg\" height=\"24px\"viewBox=\"0 0 24 24\"\n",
              "       width=\"24px\">\n",
              "    <path d=\"M0 0h24v24H0V0z\" fill=\"none\"/>\n",
              "    <path d=\"M18.56 5.44l.94 2.06.94-2.06 2.06-.94-2.06-.94-.94-2.06-.94 2.06-2.06.94zm-11 1L8.5 8.5l.94-2.06 2.06-.94-2.06-.94L8.5 2.5l-.94 2.06-2.06.94zm10 10l.94 2.06.94-2.06 2.06-.94-2.06-.94-.94-2.06-.94 2.06-2.06.94z\"/><path d=\"M17.41 7.96l-1.37-1.37c-.4-.4-.92-.59-1.43-.59-.52 0-1.04.2-1.43.59L10.3 9.45l-7.72 7.72c-.78.78-.78 2.05 0 2.83L4 21.41c.39.39.9.59 1.41.59.51 0 1.02-.2 1.41-.59l7.78-7.78 2.81-2.81c.8-.78.8-2.07 0-2.86zM5.41 20L4 18.59l7.72-7.72 1.47 1.35L5.41 20z\"/>\n",
              "  </svg>\n",
              "      </button>\n",
              "      \n",
              "  <style>\n",
              "    .colab-df-container {\n",
              "      display:flex;\n",
              "      flex-wrap:wrap;\n",
              "      gap: 12px;\n",
              "    }\n",
              "\n",
              "    .colab-df-convert {\n",
              "      background-color: #E8F0FE;\n",
              "      border: none;\n",
              "      border-radius: 50%;\n",
              "      cursor: pointer;\n",
              "      display: none;\n",
              "      fill: #1967D2;\n",
              "      height: 32px;\n",
              "      padding: 0 0 0 0;\n",
              "      width: 32px;\n",
              "    }\n",
              "\n",
              "    .colab-df-convert:hover {\n",
              "      background-color: #E2EBFA;\n",
              "      box-shadow: 0px 1px 2px rgba(60, 64, 67, 0.3), 0px 1px 3px 1px rgba(60, 64, 67, 0.15);\n",
              "      fill: #174EA6;\n",
              "    }\n",
              "\n",
              "    [theme=dark] .colab-df-convert {\n",
              "      background-color: #3B4455;\n",
              "      fill: #D2E3FC;\n",
              "    }\n",
              "\n",
              "    [theme=dark] .colab-df-convert:hover {\n",
              "      background-color: #434B5C;\n",
              "      box-shadow: 0px 1px 3px 1px rgba(0, 0, 0, 0.15);\n",
              "      filter: drop-shadow(0px 1px 2px rgba(0, 0, 0, 0.3));\n",
              "      fill: #FFFFFF;\n",
              "    }\n",
              "  </style>\n",
              "\n",
              "      <script>\n",
              "        const buttonEl =\n",
              "          document.querySelector('#df-e6cf3ec1-9080-4b1b-b30f-9e8fe7bdb488 button.colab-df-convert');\n",
              "        buttonEl.style.display =\n",
              "          google.colab.kernel.accessAllowed ? 'block' : 'none';\n",
              "\n",
              "        async function convertToInteractive(key) {\n",
              "          const element = document.querySelector('#df-e6cf3ec1-9080-4b1b-b30f-9e8fe7bdb488');\n",
              "          const dataTable =\n",
              "            await google.colab.kernel.invokeFunction('convertToInteractive',\n",
              "                                                     [key], {});\n",
              "          if (!dataTable) return;\n",
              "\n",
              "          const docLinkHtml = 'Like what you see? Visit the ' +\n",
              "            '<a target=\"_blank\" href=https://colab.research.google.com/notebooks/data_table.ipynb>data table notebook</a>'\n",
              "            + ' to learn more about interactive tables.';\n",
              "          element.innerHTML = '';\n",
              "          dataTable['output_type'] = 'display_data';\n",
              "          await google.colab.output.renderOutput(dataTable, element);\n",
              "          const docLink = document.createElement('div');\n",
              "          docLink.innerHTML = docLinkHtml;\n",
              "          element.appendChild(docLink);\n",
              "        }\n",
              "      </script>\n",
              "    </div>\n",
              "  </div>\n",
              "  "
            ]
          },
          "metadata": {},
          "execution_count": 4
        }
      ],
      "source": [
        "df_train.sample(5)"
      ]
    },
    {
      "cell_type": "code",
      "execution_count": null,
      "metadata": {
        "colab": {
          "base_uri": "https://localhost:8080/",
          "height": 206
        },
        "id": "k2V3gh3xF2q3",
        "outputId": "07ad4baa-0df1-4b60-9842-40a349793b99"
      },
      "outputs": [
        {
          "output_type": "execute_result",
          "data": {
            "text/plain": [
              "                                                  text  sentiment\n",
              "468  Driving through New Mexico is like driving thr...          3\n",
              "976  This is....odd. @Google suggests the most dead...          1\n",
              "743  Holy shit, how pissed off do you have to be to...          3\n",
              "268  woops made a bunch of boomer men mad on facebo...          1\n",
              "523  One game of fifa tonight and I’m done. Pressin...          0"
            ],
            "text/html": [
              "\n",
              "  <div id=\"df-00a06edb-4bb3-40db-b8c2-4c98acc468d8\">\n",
              "    <div class=\"colab-df-container\">\n",
              "      <div>\n",
              "<style scoped>\n",
              "    .dataframe tbody tr th:only-of-type {\n",
              "        vertical-align: middle;\n",
              "    }\n",
              "\n",
              "    .dataframe tbody tr th {\n",
              "        vertical-align: top;\n",
              "    }\n",
              "\n",
              "    .dataframe thead th {\n",
              "        text-align: right;\n",
              "    }\n",
              "</style>\n",
              "<table border=\"1\" class=\"dataframe\">\n",
              "  <thead>\n",
              "    <tr style=\"text-align: right;\">\n",
              "      <th></th>\n",
              "      <th>text</th>\n",
              "      <th>sentiment</th>\n",
              "    </tr>\n",
              "  </thead>\n",
              "  <tbody>\n",
              "    <tr>\n",
              "      <th>468</th>\n",
              "      <td>Driving through New Mexico is like driving thr...</td>\n",
              "      <td>3</td>\n",
              "    </tr>\n",
              "    <tr>\n",
              "      <th>976</th>\n",
              "      <td>This is....odd. @Google suggests the most dead...</td>\n",
              "      <td>1</td>\n",
              "    </tr>\n",
              "    <tr>\n",
              "      <th>743</th>\n",
              "      <td>Holy shit, how pissed off do you have to be to...</td>\n",
              "      <td>3</td>\n",
              "    </tr>\n",
              "    <tr>\n",
              "      <th>268</th>\n",
              "      <td>woops made a bunch of boomer men mad on facebo...</td>\n",
              "      <td>1</td>\n",
              "    </tr>\n",
              "    <tr>\n",
              "      <th>523</th>\n",
              "      <td>One game of fifa tonight and I’m done. Pressin...</td>\n",
              "      <td>0</td>\n",
              "    </tr>\n",
              "  </tbody>\n",
              "</table>\n",
              "</div>\n",
              "      <button class=\"colab-df-convert\" onclick=\"convertToInteractive('df-00a06edb-4bb3-40db-b8c2-4c98acc468d8')\"\n",
              "              title=\"Convert this dataframe to an interactive table.\"\n",
              "              style=\"display:none;\">\n",
              "        \n",
              "  <svg xmlns=\"http://www.w3.org/2000/svg\" height=\"24px\"viewBox=\"0 0 24 24\"\n",
              "       width=\"24px\">\n",
              "    <path d=\"M0 0h24v24H0V0z\" fill=\"none\"/>\n",
              "    <path d=\"M18.56 5.44l.94 2.06.94-2.06 2.06-.94-2.06-.94-.94-2.06-.94 2.06-2.06.94zm-11 1L8.5 8.5l.94-2.06 2.06-.94-2.06-.94L8.5 2.5l-.94 2.06-2.06.94zm10 10l.94 2.06.94-2.06 2.06-.94-2.06-.94-.94-2.06-.94 2.06-2.06.94z\"/><path d=\"M17.41 7.96l-1.37-1.37c-.4-.4-.92-.59-1.43-.59-.52 0-1.04.2-1.43.59L10.3 9.45l-7.72 7.72c-.78.78-.78 2.05 0 2.83L4 21.41c.39.39.9.59 1.41.59.51 0 1.02-.2 1.41-.59l7.78-7.78 2.81-2.81c.8-.78.8-2.07 0-2.86zM5.41 20L4 18.59l7.72-7.72 1.47 1.35L5.41 20z\"/>\n",
              "  </svg>\n",
              "      </button>\n",
              "      \n",
              "  <style>\n",
              "    .colab-df-container {\n",
              "      display:flex;\n",
              "      flex-wrap:wrap;\n",
              "      gap: 12px;\n",
              "    }\n",
              "\n",
              "    .colab-df-convert {\n",
              "      background-color: #E8F0FE;\n",
              "      border: none;\n",
              "      border-radius: 50%;\n",
              "      cursor: pointer;\n",
              "      display: none;\n",
              "      fill: #1967D2;\n",
              "      height: 32px;\n",
              "      padding: 0 0 0 0;\n",
              "      width: 32px;\n",
              "    }\n",
              "\n",
              "    .colab-df-convert:hover {\n",
              "      background-color: #E2EBFA;\n",
              "      box-shadow: 0px 1px 2px rgba(60, 64, 67, 0.3), 0px 1px 3px 1px rgba(60, 64, 67, 0.15);\n",
              "      fill: #174EA6;\n",
              "    }\n",
              "\n",
              "    [theme=dark] .colab-df-convert {\n",
              "      background-color: #3B4455;\n",
              "      fill: #D2E3FC;\n",
              "    }\n",
              "\n",
              "    [theme=dark] .colab-df-convert:hover {\n",
              "      background-color: #434B5C;\n",
              "      box-shadow: 0px 1px 3px 1px rgba(0, 0, 0, 0.15);\n",
              "      filter: drop-shadow(0px 1px 2px rgba(0, 0, 0, 0.3));\n",
              "      fill: #FFFFFF;\n",
              "    }\n",
              "  </style>\n",
              "\n",
              "      <script>\n",
              "        const buttonEl =\n",
              "          document.querySelector('#df-00a06edb-4bb3-40db-b8c2-4c98acc468d8 button.colab-df-convert');\n",
              "        buttonEl.style.display =\n",
              "          google.colab.kernel.accessAllowed ? 'block' : 'none';\n",
              "\n",
              "        async function convertToInteractive(key) {\n",
              "          const element = document.querySelector('#df-00a06edb-4bb3-40db-b8c2-4c98acc468d8');\n",
              "          const dataTable =\n",
              "            await google.colab.kernel.invokeFunction('convertToInteractive',\n",
              "                                                     [key], {});\n",
              "          if (!dataTable) return;\n",
              "\n",
              "          const docLinkHtml = 'Like what you see? Visit the ' +\n",
              "            '<a target=\"_blank\" href=https://colab.research.google.com/notebooks/data_table.ipynb>data table notebook</a>'\n",
              "            + ' to learn more about interactive tables.';\n",
              "          element.innerHTML = '';\n",
              "          dataTable['output_type'] = 'display_data';\n",
              "          await google.colab.output.renderOutput(dataTable, element);\n",
              "          const docLink = document.createElement('div');\n",
              "          docLink.innerHTML = docLinkHtml;\n",
              "          element.appendChild(docLink);\n",
              "        }\n",
              "      </script>\n",
              "    </div>\n",
              "  </div>\n",
              "  "
            ]
          },
          "metadata": {},
          "execution_count": 5
        }
      ],
      "source": [
        "df_test.sample(5)"
      ]
    },
    {
      "cell_type": "code",
      "execution_count": null,
      "metadata": {
        "id": "jiRmfYtoF2q6"
      },
      "outputs": [],
      "source": [
        "# Menghapus Data Null Pada Dataset\n",
        "df_train['text'].replace('', np.nan, inplace=True)\n",
        "df_train.dropna(subset=['text'], inplace=True)\n",
        "\n",
        "df_test['text'].replace('', np.nan, inplace=True)\n",
        "df_test.dropna(subset=['text'], inplace=True)"
      ]
    },
    {
      "cell_type": "code",
      "execution_count": null,
      "metadata": {
        "colab": {
          "base_uri": "https://localhost:8080/",
          "height": 279
        },
        "id": "drS6eGTHF2q7",
        "outputId": "d8ff825a-1100-4c88-a9de-f892708cbd72"
      },
      "outputs": [
        {
          "output_type": "display_data",
          "data": {
            "text/plain": [
              "<Figure size 432x288 with 1 Axes>"
            ],
            "image/png": "[encoded data removed]"
          },
          "metadata": {
            "needs_background": "light"
          }
        }
      ],
      "source": [
        "sns.countplot(data=df_train, x='sentiment')\n",
        "plt.show()"
      ]
    },
    {
      "cell_type": "code",
      "execution_count": null,
      "metadata": {
        "colab": {
          "base_uri": "https://localhost:8080/",
          "height": 279
        },
        "id": "T1X-mHCbF2q7",
        "outputId": "4ddcb221-5171-4f8d-cafe-67bb77f779c3"
      },
      "outputs": [
        {
          "output_type": "display_data",
          "data": {
            "text/plain": [
              "<Figure size 432x288 with 1 Axes>"
            ],
            "image/png": "[encoded data removed]"
          },
          "metadata": {
            "needs_background": "light"
          }
        }
      ],
      "source": [
        "sns.countplot(data=df_test, x='sentiment')\n",
        "plt.show()"
      ]
    },
    {
      "cell_type": "markdown",
      "metadata": {
        "id": "_kF1DZ5cF2q8"
      },
      "source": [
        "### **Neural Based Classification (LSTM)**"
      ]
    },
    {
      "cell_type": "code",
      "execution_count": null,
      "metadata": {
        "colab": {
          "base_uri": "https://localhost:8080/"
        },
        "id": "b4r00Jh2F2q9",
        "outputId": "bccff684-b4a7-4715-b996-c3370f0ff445"
      },
      "outputs": [
        {
          "output_type": "stream",
          "name": "stdout",
          "text": [
            "2.8.0\n"
          ]
        }
      ],
      "source": [
        "import tensorflow as tf\n",
        "print(tf.__version__)"
      ]
    },
    {
      "cell_type": "code",
      "execution_count": null,
      "metadata": {
        "id": "Q1sON9elF2q9"
      },
      "outputs": [],
      "source": [
        "import pandas as pd\n",
        "import tensorflow as tf\n",
        "\n",
        "from tensorflow.keras.preprocessing.text import Tokenizer\n",
        "from tensorflow.keras.preprocessing.sequence import pad_sequences"
      ]
    },
    {
      "cell_type": "code",
      "execution_count": null,
      "metadata": {
        "id": "Oces3UpeF2q9"
      },
      "outputs": [],
      "source": [
        "vocab_size = 5000\n",
        "embedding_dim = 64\n",
        "max_length = 128\n",
        "\n",
        "trunc_type = 'post'\n",
        "padding_type = 'post'"
      ]
    },
    {
      "cell_type": "code",
      "execution_count": null,
      "metadata": {
        "id": "L3GfLPl4F2q-"
      },
      "outputs": [],
      "source": [
        "from sklearn.model_selection import train_test_split\n",
        "\n",
        "X_train, X_val, y_train, y_val = train_test_split(\n",
        "    df_train['text'], \n",
        "    df_train['sentiment'],\n",
        "    test_size=0.2, \n",
        "    random_state=42\n",
        ")"
      ]
    },
    {
      "cell_type": "code",
      "execution_count": null,
      "metadata": {
        "id": "RCvC10rBF2q-"
      },
      "outputs": [],
      "source": [
        "tokenizer = Tokenizer(num_words=vocab_size)\n",
        "tokenizer.fit_on_texts(df_train['text'])\n",
        "word_index = tokenizer.word_index"
      ]
    },
    {
      "cell_type": "code",
      "execution_count": null,
      "metadata": {
        "id": "3xSyjABZF2q-",
        "colab": {
          "base_uri": "https://localhost:8080/"
        },
        "outputId": "fb1a6cb9-ad5e-459d-b8e5-28176dd0dea3"
      },
      "outputs": [
        {
          "output_type": "execute_result",
          "data": {
            "text/plain": [
              "{'a': 5,\n",
              " 'and': 4,\n",
              " 'for': 9,\n",
              " 'i': 2,\n",
              " 'in': 8,\n",
              " 'is': 7,\n",
              " 'of': 6,\n",
              " 'the': 1,\n",
              " 'this': 10,\n",
              " 'to': 3}"
            ]
          },
          "metadata": {},
          "execution_count": 14
        }
      ],
      "source": [
        "dict(list(word_index.items())[0:10])"
      ]
    },
    {
      "cell_type": "code",
      "execution_count": null,
      "metadata": {
        "id": "UrYkWomEF2q_"
      },
      "outputs": [],
      "source": [
        "train_sequences = tokenizer.texts_to_sequences(X_train)\n",
        "train_padded = pad_sequences(train_sequences, maxlen=max_length, padding=padding_type, truncating=trunc_type)\n",
        "\n",
        "validation_sequences = tokenizer.texts_to_sequences(X_val)\n",
        "validation_padded = pad_sequences(validation_sequences, maxlen=max_length, padding=padding_type, truncating=trunc_type)"
      ]
    },
    {
      "cell_type": "code",
      "execution_count": null,
      "metadata": {
        "colab": {
          "base_uri": "https://localhost:8080/"
        },
        "id": "Y5qp9UUmF2q_",
        "outputId": "1332c7ab-e6e4-4ce6-b2f4-fc0b634158f4"
      },
      "outputs": [
        {
          "output_type": "execute_result",
          "data": {
            "text/plain": [
              "array([1578,   76,    5,  543,    6,  116,  168,  308,    9,  315,    3,\n",
              "       1024,    0,    0,    0,    0,    0,    0,    0,    0,    0,    0,\n",
              "          0,    0,    0,    0,    0,    0,    0,    0,    0,    0,    0,\n",
              "          0,    0,    0,    0,    0,    0,    0,    0,    0,    0,    0,\n",
              "          0,    0,    0,    0,    0,    0,    0,    0,    0,    0,    0,\n",
              "          0,    0,    0,    0,    0,    0,    0,    0,    0,    0,    0,\n",
              "          0,    0,    0,    0,    0,    0,    0,    0,    0,    0,    0,\n",
              "          0,    0,    0,    0,    0,    0,    0,    0,    0,    0,    0,\n",
              "          0,    0,    0,    0,    0,    0,    0,    0,    0,    0,    0,\n",
              "          0,    0,    0,    0,    0,    0,    0,    0,    0,    0,    0,\n",
              "          0,    0,    0,    0,    0,    0,    0,    0,    0,    0,    0,\n",
              "          0,    0,    0,    0,    0,    0,    0], dtype=int32)"
            ]
          },
          "metadata": {},
          "execution_count": 16
        }
      ],
      "source": [
        "train_padded[100]"
      ]
    },
    {
      "cell_type": "code",
      "execution_count": null,
      "metadata": {
        "colab": {
          "base_uri": "https://localhost:8080/"
        },
        "id": "E7lrmTRTF2q_",
        "outputId": "0f18b493-c1c6-4039-b1cc-b22ed1044b7b"
      },
      "outputs": [
        {
          "output_type": "stream",
          "name": "stdout",
          "text": [
            "Model: \"sequential\"\n",
            "_________________________________________________________________\n",
            " Layer (type)                Output Shape              Param #   \n",
            "=================================================================\n",
            " embedding (Embedding)       (None, None, 64)          320000    \n",
            "                                                                 \n",
            " bidirectional (Bidirectiona  (None, 128)              66048     \n",
            " l)                                                              \n",
            "                                                                 \n",
            " dense (Dense)               (None, 64)                8256      \n",
            "                                                                 \n",
            " dense_1 (Dense)             (None, 4)                 260       \n",
            "                                                                 \n",
            "=================================================================\n",
            "Total params: 394,564\n",
            "Trainable params: 394,564\n",
            "Non-trainable params: 0\n",
            "_________________________________________________________________\n"
          ]
        }
      ],
      "source": [
        "model = tf.keras.Sequential([\n",
        "    tf.keras.layers.Embedding(vocab_size, embedding_dim),\n",
        "    tf.keras.layers.Bidirectional(tf.keras.layers.LSTM(embedding_dim)),\n",
        "    tf.keras.layers.Dense(embedding_dim, activation='relu'),\n",
        "    tf.keras.layers.Dense(4, activation='softmax')\n",
        "])\n",
        "\n",
        "model.summary()"
      ]
    },
    {
      "cell_type": "code",
      "source": [
        "tf.keras.utils.plot_model(model, show_shapes=True)"
      ],
      "metadata": {
        "colab": {
          "base_uri": "https://localhost:8080/",
          "height": 533
        },
        "id": "9GbvJmMfptKI",
        "outputId": "c84592cd-e1b6-42ca-9c03-1bfbded6aac7"
      },
      "execution_count": null,
      "outputs": [
        {
          "output_type": "execute_result",
          "data": {
            "text/plain": [
              "<IPython.core.display.Image object>"
            ],
            "image/png": "[encoded data removed]"
          },
          "metadata": {},
          "execution_count": 18
        }
      ]
    },
    {
      "cell_type": "code",
      "source": [
        "import timeit\n",
        "start = timeit.default_timer()"
      ],
      "metadata": {
        "id": "tBzR515BPnmk"
      },
      "execution_count": null,
      "outputs": []
    },
    {
      "cell_type": "code",
      "execution_count": null,
      "metadata": {
        "colab": {
          "base_uri": "https://localhost:8080/"
        },
        "id": "9nTgU1eUF2rA",
        "outputId": "c16ca110-78b8-4a9d-9fc5-ebc9e133280b"
      },
      "outputs": [
        {
          "output_type": "stream",
          "name": "stdout",
          "text": [
            "Epoch 1/15\n",
            "463/463 [==============================] - 28s 39ms/step - loss: 1.0065 - accuracy: 0.5794 - val_loss: 0.8111 - val_accuracy: 0.6833\n",
            "Epoch 2/15\n",
            "463/463 [==============================] - 9s 20ms/step - loss: 0.6830 - accuracy: 0.7376 - val_loss: 0.6860 - val_accuracy: 0.7389\n",
            "Epoch 3/15\n",
            "463/463 [==============================] - 8s 18ms/step - loss: 0.5397 - accuracy: 0.7955 - val_loss: 0.6213 - val_accuracy: 0.7671\n",
            "Epoch 4/15\n",
            "463/463 [==============================] - 8s 18ms/step - loss: 0.4437 - accuracy: 0.8333 - val_loss: 0.5656 - val_accuracy: 0.7924\n",
            "Epoch 5/15\n",
            "463/463 [==============================] - 9s 19ms/step - loss: 0.3763 - accuracy: 0.8590 - val_loss: 0.5635 - val_accuracy: 0.8021\n",
            "Epoch 6/15\n",
            "463/463 [==============================] - 9s 19ms/step - loss: 0.3304 - accuracy: 0.8765 - val_loss: 0.5504 - val_accuracy: 0.8113\n",
            "Epoch 7/15\n",
            "463/463 [==============================] - 16s 34ms/step - loss: 0.2962 - accuracy: 0.8888 - val_loss: 0.5630 - val_accuracy: 0.8138\n",
            "Epoch 8/15\n",
            "463/463 [==============================] - 9s 19ms/step - loss: 0.2625 - accuracy: 0.9015 - val_loss: 0.5852 - val_accuracy: 0.8168\n"
          ]
        }
      ],
      "source": [
        "model.compile(\n",
        "    loss='sparse_categorical_crossentropy',\n",
        "    optimizer='adam', \n",
        "    metrics=['accuracy']\n",
        ")\n",
        "\n",
        "early_stopping = tf.keras.callbacks.EarlyStopping(\n",
        "    monitor='val_loss',\n",
        "    mode='auto',\n",
        "    patience=2,\n",
        "    restore_best_weights=True\n",
        ")\n",
        "\n",
        "num_epochs = 15\n",
        "\n",
        "history = model.fit(\n",
        "    train_padded, \n",
        "    y_train, \n",
        "    batch_size=128,\n",
        "    epochs=num_epochs,\n",
        "    callbacks=[early_stopping],\n",
        "    validation_data=(validation_padded, y_val), \n",
        ")\n"
      ]
    },
    {
      "cell_type": "code",
      "source": [
        "stop = timeit.default_timer()\n",
        "print('Waktu Training: ', (stop - start) / 60, 'Menit')  "
      ],
      "metadata": {
        "colab": {
          "base_uri": "https://localhost:8080/"
        },
        "id": "UDjcmdqbPs8D",
        "outputId": "b1a3ad18-0fe5-426f-985c-02eb1ee4147a"
      },
      "execution_count": null,
      "outputs": [
        {
          "output_type": "stream",
          "name": "stdout",
          "text": [
            "Waktu Training:  1.5907114468500008 Menit\n"
          ]
        }
      ]
    },
    {
      "cell_type": "markdown",
      "source": [
        "### **Evaluation Mode**"
      ],
      "metadata": {
        "id": "q7Q2x-2vSAqa"
      }
    },
    {
      "cell_type": "code",
      "execution_count": null,
      "metadata": {
        "id": "--Iku8EGF2rA"
      },
      "outputs": [],
      "source": [
        "def plot_history(history, string):\n",
        "    plt.plot(history.history[string])\n",
        "    plt.plot(history.history['val_'+string])\n",
        "\n",
        "    plt.xlabel(\"Epochs\")\n",
        "    plt.ylabel(string)\n",
        "\n",
        "    plt.legend([string, 'val_'+string])\n",
        "    plt.show()"
      ]
    },
    {
      "cell_type": "code",
      "source": [
        "plot_history(history, \"accuracy\")"
      ],
      "metadata": {
        "colab": {
          "base_uri": "https://localhost:8080/",
          "height": 279
        },
        "id": "dZ9GrqGxR5v8",
        "outputId": "17572964-e294-4a73-9faf-e46d4c5f8664"
      },
      "execution_count": null,
      "outputs": [
        {
          "output_type": "display_data",
          "data": {
            "text/plain": [
              "<Figure size 432x288 with 1 Axes>"
            ],
            "image/png": "[encoded data removed]"
          },
          "metadata": {
            "needs_background": "light"
          }
        }
      ]
    },
    {
      "cell_type": "code",
      "source": [
        "plot_history(history, \"loss\")"
      ],
      "metadata": {
        "colab": {
          "base_uri": "https://localhost:8080/",
          "height": 279
        },
        "id": "eMlrFW1AR7bJ",
        "outputId": "84020033-cf4e-479a-811a-cbfa91299ada"
      },
      "execution_count": null,
      "outputs": [
        {
          "output_type": "display_data",
          "data": {
            "text/plain": [
              "<Figure size 432x288 with 1 Axes>"
            ],
            "image/png": "[encoded data removed]"
          },
          "metadata": {
            "needs_background": "light"
          }
        }
      ]
    },
    {
      "cell_type": "code",
      "source": [
        "test_sequences = tokenizer.texts_to_sequences(df_test['text'])\n",
        "test_padded = pad_sequences(test_sequences, maxlen=max_length, padding=padding_type, truncating=trunc_type)\n",
        "\n",
        "prediction = np.argmax(model.predict(test_padded), axis=1)"
      ],
      "metadata": {
        "id": "ifzU4hVYH7WU"
      },
      "execution_count": null,
      "outputs": []
    },
    {
      "cell_type": "code",
      "source": [
        "from sklearn.metrics import confusion_matrix, classification_report\n",
        "\n",
        "def show_confusion_matrix(confusion_matrix):\n",
        "        plt.figure(figsize=(8, 5))\n",
        "        hmap = sns.heatmap(confusion_matrix, annot=True, fmt=\"d\", cmap=\"Blues\")\n",
        "        hmap.yaxis.set_ticklabels(hmap.yaxis.get_ticklabels(), rotation=0, ha='right')\n",
        "        hmap.xaxis.set_ticklabels(hmap.xaxis.get_ticklabels(), rotation=30, ha='right')\n",
        "\n",
        "        plt.ylabel('True Label')\n",
        "        plt.xlabel('Predicted Label')\n",
        "        plt.show()\n",
        "\n",
        "print(classification_report(prediction, df_test['sentiment'], target_names=[\"Negative\", \"Neutral\", \"Positive\", \"Irrelevant\"]))\n",
        "\n",
        "cm = confusion_matrix(prediction, df_test['sentiment'])\n",
        "show_confusion_matrix(cm)\n"
      ],
      "metadata": {
        "colab": {
          "base_uri": "https://localhost:8080/",
          "height": 527
        },
        "id": "8t9PmpoIJ1zq",
        "outputId": "aa95b76b-cc24-401f-aee6-619eda6630eb"
      },
      "execution_count": null,
      "outputs": [
        {
          "output_type": "stream",
          "name": "stdout",
          "text": [
            "              precision    recall  f1-score   support\n",
            "\n",
            "    Negative       0.94      0.92      0.93       274\n",
            "     Neutral       0.92      0.95      0.94       277\n",
            "    Positive       0.92      0.91      0.92       282\n",
            "  Irrelevant       0.91      0.94      0.93       166\n",
            "\n",
            "    accuracy                           0.93       999\n",
            "   macro avg       0.93      0.93      0.93       999\n",
            "weighted avg       0.93      0.93      0.93       999\n",
            "\n"
          ]
        },
        {
          "output_type": "display_data",
          "data": {
            "text/plain": [
              "<Figure size 576x360 with 2 Axes>"
            ],
            "image/png": "[encoded data removed]"
          },
          "metadata": {
            "needs_background": "light"
          }
        }
      ]
    },
    {
      "cell_type": "markdown",
      "source": [
        "### **N-Gram Based Classification**"
      ],
      "metadata": {
        "id": "6IxsXR6NRWZp"
      }
    },
    {
      "cell_type": "code",
      "source": [
        "from sklearn.naive_bayes import MultinomialNB\n",
        "from sklearn.feature_extraction.text import CountVectorizer\n",
        "\n",
        "# melatih model dengan rentang n-gram yang berbeda\n",
        "for N in range(1, 5):\n",
        "\n",
        "    # Mengubah data train menjadi representasi N-Gram sesuai perulangan\n",
        "    cv = CountVectorizer(analyzer = 'word', ngram_range=(1, N))\n",
        "    \n",
        "    X_train_cv = cv.fit_transform(df_train['text'])\n",
        "    X_test_cv = cv.transform(df_test['text'])\n",
        "    \n",
        "    # melatih model dan menghasilkan prediksi\n",
        "    start = timeit.default_timer()\n",
        "\n",
        "    clf = MultinomialNB()\n",
        "    clf.fit(X_train_cv, df_train['sentiment'])\n",
        "\n",
        "    stop = timeit.default_timer()\n",
        "    print('Waktu Training: ', (stop - start) / 60, 'Menit')  \n",
        "    \n",
        "    y_pred = clf.predict(X_test_cv)\n",
        "\n",
        "    print(f'{N}-Gram\\n')\n",
        "\n",
        "    cm = confusion_matrix(y_pred, df_test['sentiment'])\n",
        "    show_confusion_matrix(cm)  \n",
        "    print('')\n",
        "    \n",
        "    print(classification_report(\n",
        "        y_pred, \n",
        "        df_test['sentiment'], \n",
        "        target_names=[\"Negative\", \"Neutral\", \"Positive\", \"Irrelevant\"])\n",
        "    )\n",
        "\n",
        "    print('')"
      ],
      "metadata": {
        "colab": {
          "base_uri": "https://localhost:8080/",
          "height": 1000
        },
        "id": "e5AxfxMmSVax",
        "outputId": "04bc86c7-f03c-4084-f43d-78b9c27871cc"
      },
      "execution_count": null,
      "outputs": [
        {
          "output_type": "stream",
          "name": "stdout",
          "text": [
            "Waktu Training:  0.00038388556666670107 Menit\n",
            "1-Gram\n",
            "\n"
          ]
        },
        {
          "output_type": "display_data",
          "data": {
            "text/plain": [
              "<Figure size 576x360 with 2 Axes>"
            ],
            "image/png": "[encoded data removed]"
          },
          "metadata": {
            "needs_background": "light"
          }
        },
        {
          "output_type": "stream",
          "name": "stdout",
          "text": [
            "\n",
            "              precision    recall  f1-score   support\n",
            "\n",
            "    Negative       0.88      0.77      0.82       301\n",
            "     Neutral       0.75      0.89      0.82       240\n",
            "    Positive       0.91      0.79      0.84       318\n",
            "  Irrelevant       0.74      0.90      0.81       140\n",
            "\n",
            "    accuracy                           0.82       999\n",
            "   macro avg       0.82      0.84      0.82       999\n",
            "weighted avg       0.84      0.82      0.83       999\n",
            "\n",
            "\n",
            "Waktu Training:  0.0010717339999985142 Menit\n",
            "2-Gram\n",
            "\n"
          ]
        },
        {
          "output_type": "display_data",
          "data": {
            "text/plain": [
              "<Figure size 576x360 with 2 Axes>"
            ],
            "image/png": "[encoded data removed]"
          },
          "metadata": {
            "needs_background": "light"
          }
        },
        {
          "output_type": "stream",
          "name": "stdout",
          "text": [
            "\n",
            "              precision    recall  f1-score   support\n",
            "\n",
            "    Negative       0.97      0.97      0.97       268\n",
            "     Neutral       0.95      0.98      0.97       277\n",
            "    Positive       0.98      0.93      0.95       292\n",
            "  Irrelevant       0.94      0.99      0.97       162\n",
            "\n",
            "    accuracy                           0.96       999\n",
            "   macro avg       0.96      0.97      0.96       999\n",
            "weighted avg       0.96      0.96      0.96       999\n",
            "\n",
            "\n",
            "Waktu Training:  0.0023209439666667703 Menit\n",
            "3-Gram\n",
            "\n"
          ]
        },
        {
          "output_type": "display_data",
          "data": {
            "text/plain": [
              "<Figure size 576x360 with 2 Axes>"
            ],
            "image/png": "[encoded data removed]"
          },
          "metadata": {
            "needs_background": "light"
          }
        },
        {
          "output_type": "stream",
          "name": "stdout",
          "text": [
            "\n",
            "              precision    recall  f1-score   support\n",
            "\n",
            "    Negative       0.99      0.99      0.99       267\n",
            "     Neutral       0.98      0.99      0.98       280\n",
            "    Positive       0.99      0.96      0.98       285\n",
            "  Irrelevant       0.97      0.99      0.98       167\n",
            "\n",
            "    accuracy                           0.98       999\n",
            "   macro avg       0.98      0.98      0.98       999\n",
            "weighted avg       0.98      0.98      0.98       999\n",
            "\n",
            "\n",
            "Waktu Training:  0.00922910321666753 Menit\n",
            "4-Gram\n",
            "\n"
          ]
        },
        {
          "output_type": "display_data",
          "data": {
            "text/plain": [
              "<Figure size 576x360 with 2 Axes>"
            ],
            "image/png": "[encoded data removed]"
          },
          "metadata": {
            "needs_background": "light"
          }
        },
        {
          "output_type": "stream",
          "name": "stdout",
          "text": [
            "\n",
            "              precision    recall  f1-score   support\n",
            "\n",
            "    Negative       0.99      0.99      0.99       268\n",
            "     Neutral       0.98      0.99      0.98       280\n",
            "    Positive       0.99      0.96      0.97       285\n",
            "  Irrelevant       0.96      0.99      0.98       166\n",
            "\n",
            "    accuracy                           0.98       999\n",
            "   macro avg       0.98      0.98      0.98       999\n",
            "weighted avg       0.98      0.98      0.98       999\n",
            "\n",
            "\n"
          ]
        }
      ]
    }
  ],
  "metadata": {
    "interpreter": {
      "hash": "edd244b04b6d38ffd29c11268b48668d1b51036560bcaca52154ab5f9fb27ecc"
    },
    "kernelspec": {
      "display_name": "Python 3.9.0 64-bit",
      "language": "python",
      "name": "python3"
    },
    "language_info": {
      "codemirror_mode": {
        "name": "ipython",
        "version": 3
      },
      "file_extension": ".py",
      "mimetype": "text/x-python",
      "name": "python",
      "nbconvert_exporter": "python",
      "pygments_lexer": "ipython3",
      "version": "3.9.0"
    },
    "orig_nbformat": 4,
    "colab": {
      "name": "Tugas Eksperimen 1  - Klasifikasi Data Dengan LSTM Dan N-Gram.ipynb",
      "provenance": [],
      "collapsed_sections": []
    },
    "accelerator": "GPU"
  },
  "nbformat": 4,
  "nbformat_minor": 0
}